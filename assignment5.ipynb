{
 "cells": [
  {
   "cell_type": "code",
   "execution_count": 1,
   "id": "66223ab6-74f5-4a35-ba2b-581de279558f",
   "metadata": {},
   "outputs": [],
   "source": [
    "import cv2\n",
    "import numpy as np\n",
    "import matplotlib.pyplot as plt\n",
    "\n",
    "# load the image \n",
    "img = cv2.imread(\"contrast.jpeg\", cv2.IMREAD_GRAYSCALE)\n"
   ]
  },
  {
   "cell_type": "code",
   "execution_count": 3,
   "id": "5f768f5d-e20d-4bd9-b968-2217adf1fab6",
   "metadata": {},
   "outputs": [],
   "source": [
    "# contrast stretching\n",
    "min_val = np.min(img)\n",
    "max_val = np.max(img)\n",
    "\n",
    "contrast_stretched = ((img - min_val) / (max_val - min_val) * 255).astype(np.uint8)"
   ]
  },
  {
   "cell_type": "code",
   "execution_count": 5,
   "id": "b84f6cbc-ee86-4e74-b888-13766349288c",
   "metadata": {},
   "outputs": [],
   "source": [
    "# histogram equalise\n",
    "hist_equalized = cv2.equalizeHist(img)"
   ]
  },
  {
   "cell_type": "code",
   "execution_count": null,
   "id": "17e6545e-83dd-423b-b9fc-8083c0861550",
   "metadata": {},
   "outputs": [],
   "source": [
    "#display images\n",
    "plt.figure(figsize=(12, 8))\n",
    "\n",
    "# Original Image\n",
    "plt.subplot(3, 2, 1)\n",
    "plt.imshow(img, cmap='gray')\n",
    "plt.title(\"Original Image\")\n",
    "plt.axis(\"off\")\n",
    "\n",
    "# Histogram of Original\n",
    "plt.subplot(3, 2, 2)\n",
    "plt.hist(img.ravel(), bins=256, range=(0, 256), color='black')\n",
    "plt.title(\"Histogram - Original\")\n",
    "\n",
    "# Contrast Stretched Image\n",
    "plt.subplot(3, 2, 3)\n",
    "plt.imshow(contrast_stretched, cmap='gray')\n",
    "plt.title(\"Contrast Stretched\")\n",
    "plt.axis(\"off\")\n",
    "\n",
    "# Histogram of Contrast Stretched\n",
    "plt.subplot(3, 2, 4)\n",
    "plt.hist(contrast_stretched.ravel(), bins=256, range=(0, 256), color='black')\n",
    "plt.title(\"Histogram - Contrast Stretched\")\n",
    "\n",
    "# Histogram Equalized Image\n",
    "plt.subplot(3, 2, 5)\n",
    "plt.imshow(hist_equalized, cmap='gray')\n",
    "plt.title(\"Histogram Equalized\")\n",
    "plt.axis(\"off\")\n",
    "\n",
    "# Histogram of Equalized Image\n",
    "plt.subplot(3, 2, 6)\n",
    "plt.hist(hist_equalized.ravel(), bins=256, range=(0, 256), color='black')\n",
    "plt.title(\"Histogram - Equalized\")\n",
    "\n",
    "plt.tight_layout()\n",
    "plt.show()\n"
   ]
  },
  {
   "cell_type": "code",
   "execution_count": null,
   "id": "29992c88-f396-4207-bb96-aaa1eba4ac3f",
   "metadata": {},
   "outputs": [],
   "source": []
  }
 ],
 "metadata": {
  "kernelspec": {
   "display_name": "Python 3 (ipykernel)",
   "language": "python",
   "name": "python3"
  },
  "language_info": {
   "codemirror_mode": {
    "name": "ipython",
    "version": 3
   },
   "file_extension": ".py",
   "mimetype": "text/x-python",
   "name": "python",
   "nbconvert_exporter": "python",
   "pygments_lexer": "ipython3",
   "version": "3.12.4"
  }
 },
 "nbformat": 4,
 "nbformat_minor": 5
}
